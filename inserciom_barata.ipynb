{
 "cells": [
  {
   "cell_type": "code",
   "execution_count": 47,
   "id": "48098606",
   "metadata": {},
   "outputs": [],
   "source": [
    "import pandas as pd\n",
    "import numpy as np\n",
    "import random \n",
    "import math\n",
    "import matplotlib.pyplot as plt"
   ]
  },
  {
   "cell_type": "code",
   "execution_count": 48,
   "id": "f9b512e4",
   "metadata": {},
   "outputs": [],
   "source": [
    "nombre_file = input(\"Ingrese el numero de nodos (5, 48 o 101): \")\n",
    "max_index = int(nombre_file)\n",
    "nombre_file = nombre_file+\"nodes\"+\".txt\"\n",
    "file  = open(nombre_file, \"r\")\n",
    "costo_viaje = 0\n",
    "lista_recorrido = [] #aqui va el recorrido "
   ]
  },
  {
   "cell_type": "code",
   "execution_count": 49,
   "id": "bd6c30e7",
   "metadata": {},
   "outputs": [],
   "source": [
    "def obteniendo_datos(file):\n",
    "    lista = []\n",
    "    for line in file:\n",
    "        lista.append(line.split())\n",
    "    \n",
    "    #del lista[0:4]\n",
    "    return lista\n",
    "\n",
    "\n",
    "#acuerdate que esta madre esta en string y cuando acceses para operaciones usa int(lista[x][y])\n",
    "lista = obteniendo_datos(file) \n",
    "#data frame para simplificar el proceso \n",
    "df_lista  = (pd.DataFrame(lista)).astype(int) \n",
    "df_lista.columns = ['a','x','y']"
   ]
  },
  {
   "cell_type": "code",
   "execution_count": 50,
   "id": "53bb8802",
   "metadata": {},
   "outputs": [
    {
     "data": {
      "text/html": [
       "<div>\n",
       "<style scoped>\n",
       "    .dataframe tbody tr th:only-of-type {\n",
       "        vertical-align: middle;\n",
       "    }\n",
       "\n",
       "    .dataframe tbody tr th {\n",
       "        vertical-align: top;\n",
       "    }\n",
       "\n",
       "    .dataframe thead th {\n",
       "        text-align: right;\n",
       "    }\n",
       "</style>\n",
       "<table border=\"1\" class=\"dataframe\">\n",
       "  <thead>\n",
       "    <tr style=\"text-align: right;\">\n",
       "      <th></th>\n",
       "      <th>a</th>\n",
       "      <th>x</th>\n",
       "      <th>y</th>\n",
       "    </tr>\n",
       "  </thead>\n",
       "  <tbody>\n",
       "    <tr>\n",
       "      <th>0</th>\n",
       "      <td>1</td>\n",
       "      <td>12</td>\n",
       "      <td>10</td>\n",
       "    </tr>\n",
       "    <tr>\n",
       "      <th>1</th>\n",
       "      <td>2</td>\n",
       "      <td>5</td>\n",
       "      <td>14</td>\n",
       "    </tr>\n",
       "    <tr>\n",
       "      <th>2</th>\n",
       "      <td>3</td>\n",
       "      <td>9</td>\n",
       "      <td>11</td>\n",
       "    </tr>\n",
       "    <tr>\n",
       "      <th>3</th>\n",
       "      <td>4</td>\n",
       "      <td>7</td>\n",
       "      <td>5</td>\n",
       "    </tr>\n",
       "    <tr>\n",
       "      <th>4</th>\n",
       "      <td>5</td>\n",
       "      <td>2</td>\n",
       "      <td>12</td>\n",
       "    </tr>\n",
       "  </tbody>\n",
       "</table>\n",
       "</div>"
      ],
      "text/plain": [
       "   a   x   y\n",
       "0  1  12  10\n",
       "1  2   5  14\n",
       "2  3   9  11\n",
       "3  4   7   5\n",
       "4  5   2  12"
      ]
     },
     "execution_count": 50,
     "metadata": {},
     "output_type": "execute_result"
    }
   ],
   "source": [
    "#imprimiendo df\n",
    "df_lista"
   ]
  },
  {
   "cell_type": "code",
   "execution_count": 51,
   "id": "2b72f166",
   "metadata": {},
   "outputs": [],
   "source": [
    "#haciendo la matriz de distancias \n",
    "m_distancia = np.zeros((max_index, max_index))#array de n * n lleno de \"0\"\n",
    "for i in range(max_index):\n",
    "    start = i\n",
    "    for j in range(start,max_index):\n",
    "        m_distancia[i][j] = round(math.sqrt(math.pow((df_lista['x'][i] - df_lista['x'][j]),2) + math.pow((df_lista['y'][i] - df_lista['y'][j]),2)),1)\n",
    "        m_distancia[j][i] = m_distancia[i][j]"
   ]
  },
  {
   "cell_type": "code",
   "execution_count": 52,
   "id": "e20aa83f",
   "metadata": {},
   "outputs": [],
   "source": [
    "#imprimiendo matriz distancias\n",
    "df_distancias = pd.DataFrame(m_distancia)"
   ]
  },
  {
   "cell_type": "code",
   "execution_count": 53,
   "id": "9c4fe3cd",
   "metadata": {},
   "outputs": [
    {
     "data": {
      "text/html": [
       "<div>\n",
       "<style scoped>\n",
       "    .dataframe tbody tr th:only-of-type {\n",
       "        vertical-align: middle;\n",
       "    }\n",
       "\n",
       "    .dataframe tbody tr th {\n",
       "        vertical-align: top;\n",
       "    }\n",
       "\n",
       "    .dataframe thead th {\n",
       "        text-align: right;\n",
       "    }\n",
       "</style>\n",
       "<table border=\"1\" class=\"dataframe\">\n",
       "  <thead>\n",
       "    <tr style=\"text-align: right;\">\n",
       "      <th></th>\n",
       "      <th>0</th>\n",
       "      <th>1</th>\n",
       "      <th>2</th>\n",
       "      <th>3</th>\n",
       "      <th>4</th>\n",
       "    </tr>\n",
       "  </thead>\n",
       "  <tbody>\n",
       "    <tr>\n",
       "      <th>0</th>\n",
       "      <td>0.0</td>\n",
       "      <td>8.1</td>\n",
       "      <td>3.2</td>\n",
       "      <td>7.1</td>\n",
       "      <td>10.2</td>\n",
       "    </tr>\n",
       "    <tr>\n",
       "      <th>1</th>\n",
       "      <td>8.1</td>\n",
       "      <td>0.0</td>\n",
       "      <td>5.0</td>\n",
       "      <td>9.2</td>\n",
       "      <td>3.6</td>\n",
       "    </tr>\n",
       "    <tr>\n",
       "      <th>2</th>\n",
       "      <td>3.2</td>\n",
       "      <td>5.0</td>\n",
       "      <td>0.0</td>\n",
       "      <td>6.3</td>\n",
       "      <td>7.1</td>\n",
       "    </tr>\n",
       "    <tr>\n",
       "      <th>3</th>\n",
       "      <td>7.1</td>\n",
       "      <td>9.2</td>\n",
       "      <td>6.3</td>\n",
       "      <td>0.0</td>\n",
       "      <td>8.6</td>\n",
       "    </tr>\n",
       "    <tr>\n",
       "      <th>4</th>\n",
       "      <td>10.2</td>\n",
       "      <td>3.6</td>\n",
       "      <td>7.1</td>\n",
       "      <td>8.6</td>\n",
       "      <td>0.0</td>\n",
       "    </tr>\n",
       "  </tbody>\n",
       "</table>\n",
       "</div>"
      ],
      "text/plain": [
       "      0    1    2    3     4\n",
       "0   0.0  8.1  3.2  7.1  10.2\n",
       "1   8.1  0.0  5.0  9.2   3.6\n",
       "2   3.2  5.0  0.0  6.3   7.1\n",
       "3   7.1  9.2  6.3  0.0   8.6\n",
       "4  10.2  3.6  7.1  8.6   0.0"
      ]
     },
     "execution_count": 53,
     "metadata": {},
     "output_type": "execute_result"
    }
   ],
   "source": [
    "df_distancias"
   ]
  },
  {
   "cell_type": "code",
   "execution_count": 54,
   "id": "3efa2711",
   "metadata": {},
   "outputs": [],
   "source": [
    "def menor_distancia(nodo_actual):\n",
    "    nodo_menor_dist = 0\n",
    "    costo_menor_distancia = 1000000\n",
    "    for i in range(max_index):\n",
    "        if i != nodo_actual:  \n",
    "            if df_distancias[nodo_actual][i] < costo_menor_distancia:\n",
    "                nodo_menor_dist  = i \n",
    "                costo_menor_distancia =  df_distancias[nodo_actual][i]\n",
    "\n",
    "    \n",
    "    return nodo_menor_dist,costo_menor_distancia\n"
   ]
  },
  {
   "cell_type": "code",
   "execution_count": 55,
   "id": "d13a05cd",
   "metadata": {},
   "outputs": [],
   "source": [
    "#quiero pensar que aqui empieza lo que me va salir a la primera y a mimir\n",
    "#seleccionando nodo inicial \n",
    "nodo_inicial = int(input(\"ingrese el nodo inicial: \")) - 1\n",
    "\n",
    "lista_recorrido.append(nodo_inicial)\n",
    "nodo_menor_dist,costo_menor_ditancia  = menor_distancia(nodo_inicial)\n",
    "lista_recorrido.append(nodo_menor_dist)\n",
    "costo_viaje = costo_menor_ditancia *2\n",
    "#lista_recorrido.append(menor_distancia(nodo_inicial))\n",
    "lista_recorrido.append(nodo_inicial)\n",
    "\n",
    "#print('costo viaje: ' + str(costo_viaje))\n",
    "#print('lista t : '+ str(lista_recorrido))\n",
    "\n",
    "#aqui comienza la insercion mas barata \n",
    "\n",
    "#calculando las delta_f y buscando las mas baratas \n",
    "while(len(lista_recorrido) < max_index + 1 ):\n",
    "    nodo_menor_deltaf = 0\n",
    "    index_insercion = i + 1\n",
    "    delta_f_menor = 100000000 #se le asigna un valor alto para que tome los valores reales tal cual inicie \n",
    "    for i in range(len(lista_recorrido)-1):\n",
    "        np_array = np.array(lista_recorrido)\n",
    "        nodo1 = lista_recorrido[i]\n",
    "        nodo2 = lista_recorrido[i+1]\n",
    "        #print(f'inserciones entre {nodo1} y {nodo2}')\n",
    "        for nodo in range(max_index):\n",
    "            if nodo in lista_recorrido:#si el nodo ya esta en el recorrido, omitelo\n",
    "                pass\n",
    "            else:\n",
    "                distancia_n1_a_n2 = df_distancias[nodo1][nodo2]\n",
    "                diatancia_n1_a_ni  = df_distancias[nodo1][nodo]\n",
    "                distancia_n2_a_ni  = df_distancias[nodo2][nodo]\n",
    "                #esta es la delta f \n",
    "                delta_f_calculada  = (diatancia_n1_a_ni + distancia_n2_a_ni) - distancia_n1_a_n2\n",
    "                #print(f'nodo: {nodo},  deltaf: {delta_f_calculada}\\n')\n",
    "                if(delta_f_calculada < delta_f_menor):\n",
    "                    nodo_menor_deltaf = nodo\n",
    "                    delta_f_menor = delta_f_calculada\n",
    "                    index_insercion = i + 1\n",
    "    \n",
    "    #print(f'\\ndf menor:  {delta_f_menor}  index en donde fue insertado: {index_insercion} nodo agregado: {nodo_menor_deltaf}')    \n",
    "    costo_viaje = costo_viaje + delta_f_menor\n",
    "    lista_recorrido.insert(index_insercion, nodo_menor_deltaf)\n",
    "    #print(lista_recorrido)\n",
    "    #print('')   \n"
   ]
  },
  {
   "cell_type": "code",
   "execution_count": 56,
   "id": "5f06fc03",
   "metadata": {},
   "outputs": [
    {
     "data": {
      "image/png": "[encoded data removed]",
      "text/plain": [
       "<Figure size 432x288 with 1 Axes>"
      ]
     },
     "metadata": {
      "needs_background": "light"
     },
     "output_type": "display_data"
    }
   ],
   "source": [
    "#imprimiendo locaciones \n",
    "x = df_lista['x']\n",
    "y = df_lista['y']\n",
    "\n",
    "plt.plot(x,y,'x')\n",
    "plt.xlabel('x')\n",
    "plt.ylabel('y')\n",
    "plt.title('distribucion de puntos')\n",
    "plt.show()"
   ]
  },
  {
   "cell_type": "code",
   "execution_count": 57,
   "id": "c1df2bdb",
   "metadata": {},
   "outputs": [
    {
     "name": "stdout",
     "output_type": "stream",
     "text": [
      "Lista de recorrido:\n",
      "[4, 3, 0, 2, 1, 4]\n",
      "costo: 27.5\n"
     ]
    }
   ],
   "source": [
    "#fin del programa\n",
    "print('Lista de recorrido:')\n",
    "print(lista_recorrido)\n",
    "print('costo: ' + str(costo_viaje))"
   ]
  },
  {
   "cell_type": "code",
   "execution_count": null,
   "id": "284acd58",
   "metadata": {},
   "outputs": [],
   "source": []
  },
  {
   "cell_type": "code",
   "execution_count": null,
   "id": "857c8d37",
   "metadata": {},
   "outputs": [],
   "source": []
  },
  {
   "cell_type": "code",
   "execution_count": null,
   "id": "d70173e5",
   "metadata": {},
   "outputs": [],
   "source": []
  }
 ],
 "metadata": {
  "kernelspec": {
   "display_name": "Python 3 (ipykernel)",
   "language": "python",
   "name": "python3"
  },
  "language_info": {
   "codemirror_mode": {
    "name": "ipython",
    "version": 3
   },
   "file_extension": ".py",
   "mimetype": "text/x-python",
   "name": "python",
   "nbconvert_exporter": "python",
   "pygments_lexer": "ipython3",
   "version": "3.9.5"
  }
 },
 "nbformat": 4,
 "nbformat_minor": 5
}
